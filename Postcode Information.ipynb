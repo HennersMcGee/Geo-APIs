{
 "cells": [
  {
   "cell_type": "markdown",
   "metadata": {},
   "source": [
    "# Postcode Information\n",
    "\n",
    "There is a wealth on information available through public Web APIs.  \n",
    "This notebook explores what you can get with just a postcode, from 5 different APIs."
   ]
  },
  {
   "cell_type": "markdown",
   "metadata": {},
   "source": [
    "## API\n",
    "\n",
    "Application programming interface. This interface defines a prescribed way in which one or more softwares communicate, and has standards around how to make, send, and recieve information (data formats, structure, conventions... etc).\n",
    "\n",
    "Web APIs more specifically define how URLs (HTTP request messages) can generate a structured response message (often XML or JSON). [For example](https://api.nasa.gov/), you might send your favourite satellite name in a URL and recieve text back containing the current location of its orbit."
   ]
  },
  {
   "cell_type": "markdown",
   "metadata": {},
   "source": [
    "### Modules and Postcode\n",
    "\n",
    "Before doing any coding, three required modules are imported.  \n",
    "[requests](https://requests.readthedocs.io/en/master/) has the functionality to send HTTP requests and will enable us to make API calls.  \n",
    "[pandas](https://pypi.org/project/pandas/) enables us\n",
    "[numpy](https://numpy.org/) "
   ]
  },
  {
   "cell_type": "code",
   "execution_count": 2,
   "metadata": {},
   "outputs": [],
   "source": [
    "import requests\n",
    "import pandas as pd\n",
    "import numpy as np"
   ]
  },
  {
   "cell_type": "markdown",
   "metadata": {},
   "source": [
    "The following variable can be changed by a you to vary the outputs in the rest of the code.  \n",
    "Try putting in a UK postcode of interest to you."
   ]
  },
  {
   "cell_type": "code",
   "execution_count": 3,
   "metadata": {},
   "outputs": [],
   "source": [
    "postcode = \"CO3 3ND\""
   ]
  },
  {
   "cell_type": "markdown",
   "metadata": {},
   "source": [
    "### 1) Area Names and Codes\n",
    "\n",
    "There and many different types of area groupings and cetegories in the UK.  \n",
    "The [Postcodes.io API](https://postcodes.io/) provides a selection of these for a given postcode."
   ]
  },
  {
   "cell_type": "code",
   "execution_count": 32,
   "metadata": {},
   "outputs": [
    {
     "name": "stdout",
     "output_type": "stream",
     "text": [
      "The status code is 200\n",
      "['admin_county', 'admin_district', 'admin_ward', 'ccg', 'ced', 'codes', 'country', 'eastings', 'european_electoral_region', 'incode', 'latitude', 'longitude', 'lsoa', 'msoa', 'nhs_ha', 'northings', 'nuts', 'outcode', 'parish', 'parliamentary_constituency', 'postcode', 'primary_care_trust', 'quality', 'region']\n",
      "                status                      result\n",
      "admin_county       200                       Essex\n",
      "admin_district     200                  Colchester\n",
      "admin_ward         200  New Town and Christ Church\n",
      "{'admin_district': 'E07000071', 'admin_county': 'E10000012', 'admin_ward': 'E05010835', 'parish': 'E43000228', 'parliamentary_constituency': 'E14000644', 'ccg': 'E38000117', 'ccg_id': '06T', 'ced': 'E58000428', 'nuts': 'UKH34'}\n"
     ]
    }
   ],
   "source": [
    "# Use a get request as we are appending the postcode to the base URL\n",
    "response1 = requests.get(\"http://api.postcodes.io/postcodes/\"+postcode)\n",
    "\n",
    "# The status code can shows if the API call was successful, with a value of 200) \n",
    "# Other values indicate an error and different numbers are for different issues\n",
    "print(\"The status code is \"+str(response1.status_code))\n",
    "\n",
    "# Isolate the location information\n",
    "location_details = pd.read_json(response1.text)\n",
    "codes = location_details['result'][5]\n",
    "\n",
    "# Print the list of location information\n",
    "print(list(location_details.index))\n",
    "# Print the \"codes\" details as well\n",
    "print(codes)"
   ]
  },
  {
   "cell_type": "markdown",
   "metadata": {},
   "source": [
    "There are a few pieces of location information that will be used in other API calls.  \n",
    "These are saved to variable below."
   ]
  },
  {
   "cell_type": "code",
   "execution_count": 5,
   "metadata": {},
   "outputs": [
    {
     "data": {
      "text/plain": [
       "(51.886685, 0.886988, 'E05010835')"
      ]
     },
     "execution_count": 5,
     "metadata": {},
     "output_type": "execute_result"
    }
   ],
   "source": [
    "pc_lat = float(location_details['result'][['latitude']])\n",
    "pc_long = float(location_details['result'][['longitude']])\n",
    "pc_ward = str(codes['admin_ward'])\n",
    "\n",
    "# Output values\n",
    "pc_lat, pc_long, pc_ward"
   ]
  },
  {
   "cell_type": "markdown",
   "metadata": {},
   "source": [
    "### 2) Police - Street Crime\n",
    "\n",
    "The [data.police](https://data.police.uk/docs/) gives access to some police data, including location of street crime.  \n",
    "Using this, we can seee details of all crimes committed within 1 mile of the postcode (lat/long centroid).  \n",
    "This request will use a **post** method, as the parameters supplied will appear in the message body of the URL.  \n",
    "A post request might look like *http://site.com/api/search?data1+data2* in a URL, notice the \"?\" and what follows."
   ]
  },
  {
   "cell_type": "code",
   "execution_count": 6,
   "metadata": {},
   "outputs": [
    {
     "name": "stdout",
     "output_type": "stream",
     "text": [
      "The status code is 200\n"
     ]
    },
    {
     "data": {
      "text/plain": [
       "['category',\n",
       " 'context',\n",
       " 'id',\n",
       " 'location',\n",
       " 'location_subtype',\n",
       " 'location_type',\n",
       " 'month',\n",
       " 'outcome_status',\n",
       " 'persistent_id']"
      ]
     },
     "execution_count": 6,
     "metadata": {},
     "output_type": "execute_result"
    }
   ],
   "source": [
    "# The API can take a month of interest in as a parameter, so feel free to edit the below\n",
    "year_month = \"2020-04\"\n",
    "\n",
    "# First, parameters defined earlier in the natebook are stored in a dictionaty\n",
    "parameters2 = {\"date\": year_month, \"lat\": pc_lat, \"lng\": pc_long}\n",
    "\n",
    "# These parameters and base URL are submitted as a post API request\n",
    "response2 = requests.post(\"https://data.police.uk/api/crimes-street/all-crime\", params=parameters2)\n",
    "\n",
    "# Check the status code is 200\n",
    "print(\"The status code is \"+str(response2.status_code))\n",
    "\n",
    "# Extract the crime information into a data frame\n",
    "crime_df = pd.read_json(response2.text)\n",
    "\n",
    "# For each crime we get the following information\n",
    "list(crime_df.columns)"
   ]
  },
  {
   "cell_type": "code",
   "execution_count": 7,
   "metadata": {},
   "outputs": [
    {
     "name": "stdout",
     "output_type": "stream",
     "text": [
      "There were 391 crimes in 2020-04 within a mile of CO3 3ND.\n"
     ]
    },
    {
     "data": {
      "text/plain": [
       "category\n",
       "anti-social-behaviour    140\n",
       "bicycle-theft              7\n",
       "burglary                   6\n",
       "criminal-damage-arson     27\n",
       "drugs                     33\n",
       "other-crime                9\n",
       "other-theft               12\n",
       "public-order              32\n",
       "robbery                    2\n",
       "shoplifting                8\n",
       "vehicle-crime              2\n",
       "violent-crime            113\n",
       "Name: category, dtype: int64"
      ]
     },
     "execution_count": 7,
     "metadata": {},
     "output_type": "execute_result"
    }
   ],
   "source": [
    "print(\"There were {num} crimes in {month} within a mile of {postcode}.\".format(num=len(crime_df.index), \n",
    "                                                                               month=year_month, \n",
    "                                                                               postcode=postcode))\n",
    "\n",
    "# These crimes can be grouped by category\n",
    "crime_df.groupby('category')['category'].count()"
   ]
  },
  {
   "cell_type": "markdown",
   "metadata": {},
   "source": [
    "### 3) Food Standards Agency\n",
    "The FSA has [an API](https://api.ratings.food.gov.uk/help) where you can access rating information for eating establishments in your area.  \n",
    "This API is versioned, and multiple versions can exist at the same time. This requires us to pass a headers input into the API call, where we have defined the correct API version to use."
   ]
  },
  {
   "cell_type": "code",
   "execution_count": 19,
   "metadata": {},
   "outputs": [
    {
     "name": "stdout",
     "output_type": "stream",
     "text": [
      "200\n",
      "Index(['AddressLine1', 'AddressLine2', 'AddressLine3', 'AddressLine4',\n",
      "       'BusinessName', 'BusinessType', 'BusinessTypeID', 'Distance', 'FHRSID',\n",
      "       'LocalAuthorityBusinessID', 'LocalAuthorityCode',\n",
      "       'LocalAuthorityEmailAddress', 'LocalAuthorityName',\n",
      "       'LocalAuthorityWebSite', 'NewRatingPending', 'Phone', 'PostCode',\n",
      "       'RatingDate', 'RatingKey', 'RatingValue', 'RightToReply', 'SchemeType',\n",
      "       'geocode', 'links', 'meta', 'scores'],\n",
      "      dtype='object')\n"
     ]
    }
   ],
   "source": [
    "# The below parameters defines how wide the search area is and how many results to show, you can edit these\n",
    "# You can edit these, but becareful to pick a large enough search areas to find that many results\n",
    "miles = 10\n",
    "obs = 5\n",
    "\n",
    "# As well as the parameter, we define the API version we want to use\n",
    "parameters3 = {\"latitude\": pc_lat, \"longitude\": pc_long, \"maxDistanceLimit\": miles, \"pageSize\": obs}\n",
    "hdrs = {'x-api-version': '2'}\n",
    "\n",
    "# Submit the API request, with a params input\n",
    "response3 = requests.get(\"https://api.ratings.food.gov.uk/Establishments\", params=parameters3, headers=hdrs)\n",
    "\n",
    "# Check the request was successful\n",
    "print(response3.status_code)\n",
    "\n",
    "# Extract the text from the response and get a dataframe containing the establishment information\n",
    "text = pd.read_json(\"[\"+response3.text+\"]\")\n",
    "establisments = pd.DataFrame.from_dict(text['establishments'][0])\n",
    "\n",
    "# These are the details we recieved on each establishment\n",
    "print(establisments.columns)"
   ]
  },
  {
   "cell_type": "markdown",
   "metadata": {},
   "source": [
    "The below loop will go through all the establishments and print some key information on them.  \n",
    "This loop will be as long as the **obs** value defined above."
   ]
  },
  {
   "cell_type": "code",
   "execution_count": 21,
   "metadata": {},
   "outputs": [
    {
     "name": "stdout",
     "output_type": "stream",
     "text": [
      "222 Coffee Shop at CO1 1LH is 0.67 miles away, and had a rating value of 5 on 2020-02-07T00:00:00.\n",
      "5FiVE Bars Limited at CO4 9QQ is 2.97 miles away, and had a rating value of 5 on 2019-10-09T00:00:00.\n",
      "A B Hotels Limited at CM9 8HX is 7.75 miles away, and had a rating value of 5 on 2018-11-13T00:00:00.\n",
      "A Leeder Butchers at CO10 5NZ is 9.94 miles away, and had a rating value of 5 on 2019-07-08T00:00:00.\n",
      "A Willsher and Son at CO6 1EB is 4.4 miles away, and had a rating value of 5 on 2018-11-23T00:00:00.\n"
     ]
    }
   ],
   "source": [
    "# This loop iterates through all establishements and prints the same start but with the information specific to each\n",
    "for i in range(len(establisments.index)):\n",
    "    print(\"{est} at {pc} is {dist} miles away, and had a rating value of {rc} on {date}.\".format(\n",
    "        est = establisments['BusinessName'][i],\n",
    "        pc = establisments['PostCode'][i],\n",
    "        dist = round(establisments['Distance'][i],2),\n",
    "        rc = establisments['RatingValue'][i],\n",
    "        date = establisments['RatingDate'][i])\n",
    "         )"
   ]
  },
  {
   "cell_type": "markdown",
   "metadata": {},
   "source": [
    "### 4) Public Health England\n",
    "Public health have a store of information called fingertips which has a [web API](https://fingertips.phe.org.uk/api).  \n",
    "Not only do they have API, but there is a [python package](https://fingertips-py.readthedocs.io/en/latest/) which simplifies the process of interacting with the API. "
   ]
  },
  {
   "cell_type": "code",
   "execution_count": 25,
   "metadata": {},
   "outputs": [
    {
     "name": "stdout",
     "output_type": "stream",
     "text": [
      "Collecting fingertips_py\n",
      "  Downloading https://files.pythonhosted.org/packages/eb/c3/61b14adccc3c94ade4e279e541f98787f5cf8ddc040093cae94d3a05b82c/fingertips_py-0.2.2.tar.gz\n",
      "Requirement already satisfied: pandas>=0.18.1 in c:\\users\\henry\\anaconda3\\lib\\site-packages (from fingertips_py) (0.24.2)\n",
      "Requirement already satisfied: requests in c:\\users\\henry\\anaconda3\\lib\\site-packages (from fingertips_py) (2.21.0)\n",
      "Requirement already satisfied: python-dateutil>=2.5.0 in c:\\users\\henry\\anaconda3\\lib\\site-packages (from pandas>=0.18.1->fingertips_py) (2.8.0)\n",
      "Requirement already satisfied: numpy>=1.12.0 in c:\\users\\henry\\anaconda3\\lib\\site-packages (from pandas>=0.18.1->fingertips_py) (1.16.2)\n",
      "Requirement already satisfied: pytz>=2011k in c:\\users\\henry\\anaconda3\\lib\\site-packages (from pandas>=0.18.1->fingertips_py) (2018.9)\n",
      "Requirement already satisfied: urllib3<1.25,>=1.21.1 in c:\\users\\henry\\anaconda3\\lib\\site-packages (from requests->fingertips_py) (1.24.1)\n",
      "Requirement already satisfied: chardet<3.1.0,>=3.0.2 in c:\\users\\henry\\anaconda3\\lib\\site-packages (from requests->fingertips_py) (3.0.4)\n",
      "Requirement already satisfied: idna<2.9,>=2.5 in c:\\users\\henry\\anaconda3\\lib\\site-packages (from requests->fingertips_py) (2.8)\n",
      "Requirement already satisfied: certifi>=2017.4.17 in c:\\users\\henry\\appdata\\roaming\\python\\python37\\site-packages (from requests->fingertips_py) (2020.4.5.1)\n",
      "Requirement already satisfied: six>=1.5 in c:\\users\\henry\\appdata\\roaming\\python\\python37\\site-packages (from python-dateutil>=2.5.0->pandas>=0.18.1->fingertips_py) (1.14.0)\n",
      "Building wheels for collected packages: fingertips-py\n",
      "  Building wheel for fingertips-py (setup.py): started\n",
      "  Building wheel for fingertips-py (setup.py): finished with status 'done'\n",
      "  Stored in directory: C:\\Users\\Henry\\AppData\\Local\\pip\\Cache\\wheels\\ad\\20\\e8\\3350b611979d0f7a87d8505078302dafc040ef2e718d5cf19f\n",
      "Successfully built fingertips-py\n",
      "Installing collected packages: fingertips-py\n",
      "Successfully installed fingertips-py-0.2.2\n"
     ]
    }
   ],
   "source": [
    "# Install a pip package in the current Jupyter kernel\n",
    "import sys\n",
    "!{sys.executable} -m pip install fingertips_py\n",
    "\n",
    "import fingertips_py as ftp"
   ]
  },
  {
   "cell_type": "code",
   "execution_count": 30,
   "metadata": {},
   "outputs": [
    {
     "data": {
      "text/plain": [
       "pandas.core.frame.DataFrame"
      ]
     },
     "execution_count": 30,
     "metadata": {},
     "output_type": "execute_result"
    }
   ],
   "source": [
    "healthy_life_data = ftp.get_data_for_indicator_at_all_available_geographies(90362)\n",
    "healthy_life_data.head(3)"
   ]
  },
  {
   "cell_type": "code",
   "execution_count": null,
   "metadata": {},
   "outputs": [],
   "source": []
  }
 ],
 "metadata": {
  "kernelspec": {
   "display_name": "Python 3",
   "language": "python",
   "name": "python3"
  },
  "language_info": {
   "codemirror_mode": {
    "name": "ipython",
    "version": 3
   },
   "file_extension": ".py",
   "mimetype": "text/x-python",
   "name": "python",
   "nbconvert_exporter": "python",
   "pygments_lexer": "ipython3",
   "version": "3.7.3"
  }
 },
 "nbformat": 4,
 "nbformat_minor": 2
}
