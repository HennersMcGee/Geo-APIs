{
 "cells": [
  {
   "cell_type": "markdown",
   "metadata": {},
   "source": [
    "# Postcode Information\n",
    "\n",
    "Using nothing but a input postcode, there is a wealth of information available through APIs.  \n",
    "This "
   ]
  },
  {
   "cell_type": "markdown",
   "metadata": {},
   "source": [
    "## Modules and User Inputs\n",
    "\n",
    "Before doing any coding, three required packages are imported.  "
   ]
  },
  {
   "cell_type": "code",
   "execution_count": null,
   "metadata": {},
   "outputs": [],
   "source": [
    "import requests\n",
    "import pandas as pd\n",
    "import numpy as np"
   ]
  },
  {
   "cell_type": "markdown",
   "metadata": {},
   "source": [
    "The following variables can be changed by a user to vary the outputs in the rest of the code.  \n",
    "Note: The format needs to be kept the same to avoid errors."
   ]
  },
  {
   "cell_type": "code",
   "execution_count": null,
   "metadata": {},
   "outputs": [],
   "source": [
    "postcode = \"CO3 3ND\""
   ]
  },
  {
   "cell_type": "markdown",
   "metadata": {},
   "source": [
    "## Area Names and Codes\n",
    "\n",
    "There and many different types of areas in the UK, and the following API provides a selection of these for a given postcode."
   ]
  },
  {
   "cell_type": "code",
   "execution_count": 26,
   "metadata": {},
   "outputs": [
    {
     "name": "stdout",
     "output_type": "stream",
     "text": [
      "200\n",
      "admin_county                                                              Essex\n",
      "admin_district                                                       Colchester\n",
      "admin_ward                                           New Town and Christ Church\n",
      "ccg                                                        NHS North East Essex\n",
      "ced                                                                       Drury\n",
      "codes                         {'admin_district': 'E07000071', 'admin_county'...\n",
      "country                                                                 England\n",
      "eastings                                                                 598776\n",
      "european_electoral_region                                               Eastern\n",
      "incode                                                                      3ND\n",
      "latitude                                                                51.8867\n",
      "longitude                                                              0.886988\n",
      "lsoa                                                            Colchester 013B\n",
      "msoa                                                             Colchester 013\n",
      "nhs_ha                                                          East of England\n",
      "northings                                                                224842\n",
      "nuts                                                        Essex Haven Gateway\n",
      "outcode                                                                     CO3\n",
      "parish                                              Colchester, unparished area\n",
      "parliamentary_constituency                                           Colchester\n",
      "postcode                                                                CO3 3ND\n",
      "primary_care_trust                                             North East Essex\n",
      "quality                                                                       1\n",
      "region                                                          East of England\n",
      "Name: result, dtype: object\n"
     ]
    }
   ],
   "source": [
    "response = requests.get(\"http://api.postcodes.io/postcodes/\"+postcode)\n",
    "\n",
    "print(response.status_code)\n",
    "\n",
    "location_details = pd.read_json(response.text)\n",
    "\n",
    "print(location_details['result'])\n"
   ]
  },
  {
   "cell_type": "code",
   "execution_count": 21,
   "metadata": {},
   "outputs": [
    {
     "name": "stdout",
     "output_type": "stream",
     "text": [
      "{'admin_district': 'E07000071', 'admin_county': 'E10000012', 'admin_ward': 'E05010835', 'parish': 'E43000228', 'parliamentary_constituency': 'E14000644', 'ccg': 'E38000117', 'ccg_id': '06T', 'ced': 'E58000428', 'nuts': 'UKH34'}\n"
     ]
    },
    {
     "data": {
      "text/plain": [
       "'E07000071'"
      ]
     },
     "execution_count": 21,
     "metadata": {},
     "output_type": "execute_result"
    }
   ],
   "source": [
    "codes = location_details['result'][5]\n",
    "print(codes)\n",
    "codes['admin_district']"
   ]
  },
  {
   "cell_type": "code",
   "execution_count": null,
   "metadata": {},
   "outputs": [],
   "source": []
  }
 ],
 "metadata": {
  "kernelspec": {
   "display_name": "Python 3",
   "language": "python",
   "name": "python3"
  },
  "language_info": {
   "codemirror_mode": {
    "name": "ipython",
    "version": 3
   },
   "file_extension": ".py",
   "mimetype": "text/x-python",
   "name": "python",
   "nbconvert_exporter": "python",
   "pygments_lexer": "ipython3",
   "version": "3.7.3"
  }
 },
 "nbformat": 4,
 "nbformat_minor": 2
}
