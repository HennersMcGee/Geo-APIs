{
 "cells": [
  {
   "cell_type": "markdown",
   "metadata": {},
   "source": [
    "# Postcode Information\n",
    "\n",
    "There is a wealth on information available through public Web APIs.  \n",
    "This notebook explores what you can get with just a postcode, from 4 different APIs:\n",
    "-  postcode.io\n",
    "-  Police, Street Crime\n",
    "-  Food Standards Agency (FSA)\n",
    "-  Public Health England"
   ]
  },
  {
   "cell_type": "markdown",
   "metadata": {},
   "source": [
    "## API\n",
    "\n",
    "Application programming interface. This interface defines a prescribed way in which one or more softwares communicate, and has standards around how to make, send, and recieve information (data formats, structure, conventions... etc).\n",
    "\n",
    "Web APIs more specifically define how URLs (HTTP request messages) can generate a structured response message (often XML or JSON). [An example](https://api.nasa.gov/), you might send your favourite satellite name in a URL and recieve text back containing the current location of its orbit."
   ]
  },
  {
   "cell_type": "markdown",
   "metadata": {},
   "source": [
    "### Modules and Postcode\n",
    "\n",
    "Before doing any coding, five required modules are imported.  \n",
    "(*Two of these exisit by default in the Jupyter kernal, but the other three need to be installed.*)\n",
    "-  [requests](https://requests.readthedocs.io/en/master/) has the functionality to send HTTP requests and will enable us to make API calls.  \n",
    "-  [sys](https://docs.python.org/3/library/sys.html) contains some system-specific parameters and functions.\n",
    "-  [pandas](https://pypi.org/project/pandas/) is useful for creating and manipulationg data frames.\n",
    "-  [numpy](https://numpy.org/) contains many numerical operations.\n",
    "-  [fingertips_py](https://fingertips-py.readthedocs.io/en/latest/) has functions that fetch data from the PHE web API."
   ]
  },
  {
   "cell_type": "code",
   "execution_count": 1,
   "metadata": {},
   "outputs": [],
   "source": [
    "import requests\n",
    "import sys\n",
    "# The other 3 are not default in Jupyter Notebooks\n",
    "# Using the sys package, we can them it in the current Jupyter kernel\n",
    "!{sys.executable} -m pip install pandas\n",
    "!{sys.executable} -m pip install numpy\n",
    "!{sys.executable} -m pip install fingertips_py\n",
    "\n",
    "# 3 packages can now be imported\n",
    "import pandas as pd\n",
    "import numpy as np\n",
    "import fingertips_py as ftp"
   ]
  },
  {
   "cell_type": "markdown",
   "metadata": {},
   "source": [
    "The following variable can be changed by a you to vary the outputs in the rest of the code.  \n",
    "<font color='red'>Try putting in a UK postcode of interest to you.</font>"
   ]
  },
  {
   "cell_type": "code",
   "execution_count": 2,
   "metadata": {},
   "outputs": [],
   "source": [
    "postcode = \"CO3 3ND\""
   ]
  },
  {
   "cell_type": "markdown",
   "metadata": {},
   "source": [
    "### 1) Area Names and Codes\n",
    "\n",
    "There and many different types of area groupings and cetegories in the UK.  \n",
    "The [Postcodes.io API](https://postcodes.io/) provides a common selection of these for a given postcode."
   ]
  },
  {
   "cell_type": "code",
   "execution_count": 3,
   "metadata": {},
   "outputs": [
    {
     "name": "stdout",
     "output_type": "stream",
     "text": [
      "The status code is 200\n",
      "['admin_county', 'admin_district', 'admin_ward', 'ccg', 'ced', 'codes', 'country', 'eastings', 'european_electoral_region', 'incode', 'latitude', 'longitude', 'lsoa', 'msoa', 'nhs_ha', 'northings', 'nuts', 'outcode', 'parish', 'parliamentary_constituency', 'postcode', 'primary_care_trust', 'quality', 'region']\n",
      "{'admin_district': 'E07000071', 'admin_county': 'E10000012', 'admin_ward': 'E05010835', 'parish': 'E43000228', 'parliamentary_constituency': 'E14000644', 'ccg': 'E38000117', 'ccg_id': '06T', 'ced': 'E58000428', 'nuts': 'UKH34'}\n"
     ]
    }
   ],
   "source": [
    "# Use a get request as we are appending the postcode to the base URL\n",
    "response1 = requests.get(\"http://api.postcodes.io/postcodes/\"+postcode)\n",
    "\n",
    "# The status code shows if the API call was successful, with a value of 200) \n",
    "# Other values indicate an error and different numbers are for different issues\n",
    "print(\"The status code is \"+str(response1.status_code))\n",
    "\n",
    "# Isolate the location information\n",
    "location_details = pd.read_json(response1.text)\n",
    "codes = location_details['result'][5]\n",
    "\n",
    "# Print the list of location information\n",
    "print(list(location_details.index))\n",
    "# Print the \"codes\" details as well\n",
    "print(codes)"
   ]
  },
  {
   "cell_type": "markdown",
   "metadata": {},
   "source": [
    "There are a few pieces of location information that will be used in other API calls.  \n",
    "These are saved to variables below."
   ]
  },
  {
   "cell_type": "code",
   "execution_count": 4,
   "metadata": {},
   "outputs": [
    {
     "data": {
      "text/plain": [
       "(51.886685,\n",
       " 0.886988,\n",
       " ['E07000071',\n",
       "  'E10000012',\n",
       "  'E05010835',\n",
       "  'E43000228',\n",
       "  'E14000644',\n",
       "  'E38000117',\n",
       "  'E58000428'])"
      ]
     },
     "execution_count": 4,
     "metadata": {},
     "output_type": "execute_result"
    }
   ],
   "source": [
    "pc_lat = float(location_details['result'][['latitude']])\n",
    "pc_long = float(location_details['result'][['longitude']])\n",
    "pc_district = str(codes['admin_district'])\n",
    "pc_county = str(codes['admin_county'])\n",
    "pc_ward = str(codes['admin_ward'])\n",
    "pc_parish = str(codes['parish'])\n",
    "pc_parl = str(codes['parliamentary_constituency'])\n",
    "pc_ccg = str(codes['ccg'])\n",
    "pc_ced = str(codes['ced'])\n",
    "# Group codes into list, for easy code later\n",
    "pc_list = [pc_district, pc_county, pc_ward, pc_parish, pc_parl, pc_ccg, pc_ced]\n",
    "\n",
    "# Output values\n",
    "pc_lat, pc_long, pc_list"
   ]
  },
  {
   "cell_type": "markdown",
   "metadata": {},
   "source": [
    "### 2) Police - Street Crime\n",
    "\n",
    "The [data.police](https://data.police.uk/docs/) gives access to some police data, including location of street crime.  \n",
    "Using this, we can see details of all crimes committed within 1 mile of the postcode (lat/long centroid).  \n",
    "This request will use a **post** method, as the parameters supplied will appear in the message body of the URL (usually typed after a question mark)."
   ]
  },
  {
   "cell_type": "code",
   "execution_count": 5,
   "metadata": {},
   "outputs": [
    {
     "name": "stdout",
     "output_type": "stream",
     "text": [
      "The status code is 200\n"
     ]
    },
    {
     "data": {
      "text/plain": [
       "['category',\n",
       " 'context',\n",
       " 'id',\n",
       " 'location',\n",
       " 'location_subtype',\n",
       " 'location_type',\n",
       " 'month',\n",
       " 'outcome_status',\n",
       " 'persistent_id']"
      ]
     },
     "execution_count": 5,
     "metadata": {},
     "output_type": "execute_result"
    }
   ],
   "source": [
    "# The API can take a month of interest in as a parameter, so feel free to edit the below\n",
    "year_month = \"2020-04\"\n",
    "\n",
    "# First, parameters defined earlier in the natebook are stored in a dictionaty\n",
    "parameters2 = {\"date\": year_month, \"lat\": pc_lat, \"lng\": pc_long}\n",
    "\n",
    "# These parameters and base URL are submitted as a post API request\n",
    "response2 = requests.post(\"https://data.police.uk/api/crimes-street/all-crime\", params=parameters2)\n",
    "\n",
    "# Check the status code is 200\n",
    "print(\"The status code is \"+str(response2.status_code))\n",
    "\n",
    "# Extract the crime information into a data frame\n",
    "crime_df = pd.read_json(response2.text)\n",
    "\n",
    "# For each crime we get the following information\n",
    "list(crime_df.columns)"
   ]
  },
  {
   "cell_type": "code",
   "execution_count": 6,
   "metadata": {},
   "outputs": [
    {
     "name": "stdout",
     "output_type": "stream",
     "text": [
      "There were 391 crimes in 2020-04 within a mile of CO3 3ND.\n"
     ]
    },
    {
     "data": {
      "text/plain": [
       "category\n",
       "anti-social-behaviour    140\n",
       "bicycle-theft              7\n",
       "burglary                   6\n",
       "criminal-damage-arson     27\n",
       "drugs                     33\n",
       "other-crime                9\n",
       "other-theft               12\n",
       "public-order              32\n",
       "robbery                    2\n",
       "shoplifting                8\n",
       "vehicle-crime              2\n",
       "violent-crime            113\n",
       "Name: category, dtype: int64"
      ]
     },
     "execution_count": 6,
     "metadata": {},
     "output_type": "execute_result"
    }
   ],
   "source": [
    "print(\"There were {num} crimes in {month} within a mile of {postcode}.\".format(num=len(crime_df.index), \n",
    "                                                                               month=year_month, \n",
    "                                                                               postcode=postcode))\n",
    "\n",
    "# These crimes can be grouped by category\n",
    "crime_df.groupby('category')['category'].count()"
   ]
  },
  {
   "cell_type": "markdown",
   "metadata": {},
   "source": [
    "### 3) Food Standards Agency\n",
    "The FSA has [an API](https://api.ratings.food.gov.uk/help) where you can access rating information for eating establishments in your area.  \n",
    "This API is versioned, and multiple versions can exist at the same time.  \n",
    "This requires us to pass a headers input into the API call, where we have defined the correct API version to use."
   ]
  },
  {
   "cell_type": "code",
   "execution_count": 7,
   "metadata": {},
   "outputs": [
    {
     "name": "stdout",
     "output_type": "stream",
     "text": [
      "The status code is 200\n"
     ]
    },
    {
     "data": {
      "text/plain": [
       "Index(['AddressLine1', 'AddressLine2', 'AddressLine3', 'AddressLine4',\n",
       "       'BusinessName', 'BusinessType', 'BusinessTypeID', 'Distance', 'FHRSID',\n",
       "       'LocalAuthorityBusinessID', 'LocalAuthorityCode',\n",
       "       'LocalAuthorityEmailAddress', 'LocalAuthorityName',\n",
       "       'LocalAuthorityWebSite', 'NewRatingPending', 'Phone', 'PostCode',\n",
       "       'RatingDate', 'RatingKey', 'RatingValue', 'RightToReply', 'SchemeType',\n",
       "       'geocode', 'links', 'meta', 'scores'],\n",
       "      dtype='object')"
      ]
     },
     "execution_count": 7,
     "metadata": {},
     "output_type": "execute_result"
    }
   ],
   "source": [
    "# The below parameters defines how wide the search area is and how many results to show\n",
    "# You can edit these, but be careful to pick a large enough search areas to find that many results\n",
    "miles = 10\n",
    "obs = 5\n",
    "\n",
    "# As well as the parameters, we define the API version we want to use\n",
    "parameters3 = {\"latitude\": pc_lat, \"longitude\": pc_long, \"maxDistanceLimit\": miles, \"pageSize\": obs}\n",
    "hdrs = {'x-api-version': '2'}\n",
    "\n",
    "# Submit the API request, now with a headers input\n",
    "response3 = requests.get(\"https://api.ratings.food.gov.uk/Establishments\", params=parameters3, headers=hdrs)\n",
    "\n",
    "# Check the request was successful\n",
    "print(\"The status code is \"+str(response3.status_code))\n",
    "\n",
    "# Extract the text from the response and get a dataframe containing the establishment information\n",
    "text = pd.read_json(\"[\"+response3.text+\"]\")\n",
    "establisments = pd.DataFrame.from_dict(text['establishments'][0])\n",
    "\n",
    "# These are the details we recieved on each establishment\n",
    "establisments.columns"
   ]
  },
  {
   "cell_type": "markdown",
   "metadata": {},
   "source": [
    "The below loop will go through all the establishments and print some key information on them.  \n",
    "This loop will be as long as the **obs** value defined above."
   ]
  },
  {
   "cell_type": "code",
   "execution_count": 8,
   "metadata": {},
   "outputs": [
    {
     "name": "stdout",
     "output_type": "stream",
     "text": [
      "222 Coffee Shop at CO1 1LH is 0.67 miles away, and had a rating value of 5 on 2020-02-07T00:00:00.\n",
      "5FiVE Bars Limited at CO4 9QQ is 2.97 miles away, and had a rating value of 5 on 2019-10-09T00:00:00.\n",
      "A B Hotels Limited at CM9 8HX is 7.75 miles away, and had a rating value of 5 on 2018-11-13T00:00:00.\n",
      "A Leeder Butchers at CO10 5NZ is 9.94 miles away, and had a rating value of 5 on 2019-07-08T00:00:00.\n",
      "A Willsher and Son at CO6 1EB is 4.4 miles away, and had a rating value of 5 on 2018-11-23T00:00:00.\n"
     ]
    }
   ],
   "source": [
    "# This loop iterates through all establishements and prints the same start but with the information specific to each\n",
    "for i in range(len(establisments.index)):\n",
    "    print(\"{est} at {pc} is {dist} miles away, and had a rating value of {rc} on {date}.\".format(\n",
    "        est = establisments['BusinessName'][i],\n",
    "        pc = establisments['PostCode'][i],\n",
    "        dist = round(establisments['Distance'][i],2),\n",
    "        rc = establisments['RatingValue'][i],\n",
    "        date = establisments['RatingDate'][i])\n",
    "         )"
   ]
  },
  {
   "cell_type": "markdown",
   "metadata": {},
   "source": [
    "### 4) Public Health England\n",
    "Public health have a store of information called fingertips which has a [web API](https://fingertips.phe.org.uk/api).  \n",
    "Not only do they have API, but there is a [python package](https://fingertips-py.readthedocs.io/en/latest/) which simplifies the process of interacting with the API.  \n",
    "This provides an easily way to go from input parameters to output data."
   ]
  },
  {
   "cell_type": "code",
   "execution_count": 9,
   "metadata": {},
   "outputs": [
    {
     "name": "stdout",
     "output_type": "stream",
     "text": [
      "There are 5666 indicatior and geographic area combinations.\n"
     ]
    },
    {
     "data": {
      "text/html": [
       "<div>\n",
       "<style scoped>\n",
       "    .dataframe tbody tr th:only-of-type {\n",
       "        vertical-align: middle;\n",
       "    }\n",
       "\n",
       "    .dataframe tbody tr th {\n",
       "        vertical-align: top;\n",
       "    }\n",
       "\n",
       "    .dataframe thead th {\n",
       "        text-align: right;\n",
       "    }\n",
       "</style>\n",
       "<table border=\"1\" class=\"dataframe\">\n",
       "  <thead>\n",
       "    <tr style=\"text-align: right;\">\n",
       "      <th></th>\n",
       "      <th>IndicatorId</th>\n",
       "      <th>IndicatorName</th>\n",
       "      <th>GeographicalArea</th>\n",
       "      <th>AreaTypeId</th>\n",
       "    </tr>\n",
       "  </thead>\n",
       "  <tbody>\n",
       "    <tr>\n",
       "      <th>4796</th>\n",
       "      <td>93250</td>\n",
       "      <td>Deaths from all causes, all ages, standardised...</td>\n",
       "      <td>Ward</td>\n",
       "      <td>8</td>\n",
       "    </tr>\n",
       "    <tr>\n",
       "      <th>4801</th>\n",
       "      <td>93252</td>\n",
       "      <td>Deaths from all causes, under 75 years, standa...</td>\n",
       "      <td>Ward</td>\n",
       "      <td>8</td>\n",
       "    </tr>\n",
       "    <tr>\n",
       "      <th>4806</th>\n",
       "      <td>93253</td>\n",
       "      <td>Deaths from all cancer, all ages, standardised...</td>\n",
       "      <td>Ward</td>\n",
       "      <td>8</td>\n",
       "    </tr>\n",
       "    <tr>\n",
       "      <th>4811</th>\n",
       "      <td>93254</td>\n",
       "      <td>Deaths from all cancer, under 75 years, standa...</td>\n",
       "      <td>Ward</td>\n",
       "      <td>8</td>\n",
       "    </tr>\n",
       "    <tr>\n",
       "      <th>4816</th>\n",
       "      <td>93255</td>\n",
       "      <td>Deaths from circulatory disease, all ages, sta...</td>\n",
       "      <td>Ward</td>\n",
       "      <td>8</td>\n",
       "    </tr>\n",
       "    <tr>\n",
       "      <th>4821</th>\n",
       "      <td>93256</td>\n",
       "      <td>Deaths from circulatory disease, under 75 year...</td>\n",
       "      <td>Ward</td>\n",
       "      <td>8</td>\n",
       "    </tr>\n",
       "    <tr>\n",
       "      <th>4826</th>\n",
       "      <td>93257</td>\n",
       "      <td>Deaths from coronary heart disease, all ages, ...</td>\n",
       "      <td>Ward</td>\n",
       "      <td>8</td>\n",
       "    </tr>\n",
       "    <tr>\n",
       "      <th>4831</th>\n",
       "      <td>93259</td>\n",
       "      <td>Deaths from stroke, all ages, standardised mor...</td>\n",
       "      <td>Ward</td>\n",
       "      <td>8</td>\n",
       "    </tr>\n",
       "  </tbody>\n",
       "</table>\n",
       "</div>"
      ],
      "text/plain": [
       "      IndicatorId                                      IndicatorName  \\\n",
       "4796        93250  Deaths from all causes, all ages, standardised...   \n",
       "4801        93252  Deaths from all causes, under 75 years, standa...   \n",
       "4806        93253  Deaths from all cancer, all ages, standardised...   \n",
       "4811        93254  Deaths from all cancer, under 75 years, standa...   \n",
       "4816        93255  Deaths from circulatory disease, all ages, sta...   \n",
       "4821        93256  Deaths from circulatory disease, under 75 year...   \n",
       "4826        93257  Deaths from coronary heart disease, all ages, ...   \n",
       "4831        93259  Deaths from stroke, all ages, standardised mor...   \n",
       "\n",
       "     GeographicalArea  AreaTypeId  \n",
       "4796             Ward           8  \n",
       "4801             Ward           8  \n",
       "4806             Ward           8  \n",
       "4811             Ward           8  \n",
       "4816             Ward           8  \n",
       "4821             Ward           8  \n",
       "4826             Ward           8  \n",
       "4831             Ward           8  "
      ]
     },
     "execution_count": 9,
     "metadata": {},
     "output_type": "execute_result"
    }
   ],
   "source": [
    "# First we will get a list of all the public health indicators, and all the geographical levels they are available at\n",
    "ind_areas = ftp.get_all_areas_for_all_indicators()\n",
    "# There are many indicators at many geographys\n",
    "print(\"There are \"+str(len(ind_areas.index))+\" indicatior and geographic area combinations.\")\n",
    "\n",
    "# We can filter this table by text in the indicator name and geo area\n",
    "# Feel free to change the text in \"str.contains\" to see different indicators\n",
    "ind_areas_fil = ind_areas[ind_areas['IndicatorName'].str.contains(\"mortality\") & \n",
    "                          ind_areas['GeographicalArea'].str.contains(\"Ward\")]\n",
    "ind_areas_fil.head(8)"
   ]
  },
  {
   "cell_type": "markdown",
   "metadata": {},
   "source": [
    "From the filtered table of indicators, we chose one and populate the id variable below.  \n",
    "<font color='red'>You can find a indicator of interest and update this code.</font>"
   ]
  },
  {
   "cell_type": "code",
   "execution_count": 10,
   "metadata": {},
   "outputs": [
    {
     "name": "stdout",
     "output_type": "stream",
     "text": [
      "There are 14934 rows, mostly different areas but there can be gender/age/date splits too.\n"
     ]
    },
    {
     "data": {
      "text/html": [
       "<div>\n",
       "<style scoped>\n",
       "    .dataframe tbody tr th:only-of-type {\n",
       "        vertical-align: middle;\n",
       "    }\n",
       "\n",
       "    .dataframe tbody tr th {\n",
       "        vertical-align: top;\n",
       "    }\n",
       "\n",
       "    .dataframe thead th {\n",
       "        text-align: right;\n",
       "    }\n",
       "</style>\n",
       "<table border=\"1\" class=\"dataframe\">\n",
       "  <thead>\n",
       "    <tr style=\"text-align: right;\">\n",
       "      <th></th>\n",
       "      <th>Indicator Name</th>\n",
       "      <th>Area Name</th>\n",
       "      <th>Area Type</th>\n",
       "      <th>Sex</th>\n",
       "      <th>Age</th>\n",
       "      <th>Time period</th>\n",
       "      <th>Value</th>\n",
       "      <th>Recent Trend</th>\n",
       "      <th>Compared to England value or percentiles</th>\n",
       "    </tr>\n",
       "  </thead>\n",
       "  <tbody>\n",
       "    <tr>\n",
       "      <th>137</th>\n",
       "      <td>Deaths from all causes, all ages, standardised...</td>\n",
       "      <td>NHS North East Essex CCG</td>\n",
       "      <td>CCGs (2018/19)</td>\n",
       "      <td>Persons</td>\n",
       "      <td>All ages</td>\n",
       "      <td>2013 - 17</td>\n",
       "      <td>103.529305</td>\n",
       "      <td>Cannot be calculated</td>\n",
       "      <td>Worse</td>\n",
       "    </tr>\n",
       "    <tr>\n",
       "      <th>174</th>\n",
       "      <td>Deaths from all causes, all ages, standardised...</td>\n",
       "      <td>Essex</td>\n",
       "      <td>County &amp; UA (pre 4/19)</td>\n",
       "      <td>Persons</td>\n",
       "      <td>All ages</td>\n",
       "      <td>2013 - 17</td>\n",
       "      <td>97.599014</td>\n",
       "      <td>Cannot be calculated</td>\n",
       "      <td>Better</td>\n",
       "    </tr>\n",
       "    <tr>\n",
       "      <th>143</th>\n",
       "      <td>Deaths from all causes, all ages, standardised...</td>\n",
       "      <td>Colchester</td>\n",
       "      <td>District &amp; UA (pre 4/19)</td>\n",
       "      <td>Persons</td>\n",
       "      <td>All ages</td>\n",
       "      <td>2013 - 17</td>\n",
       "      <td>99.966333</td>\n",
       "      <td>Cannot be calculated</td>\n",
       "      <td>Similar</td>\n",
       "    </tr>\n",
       "    <tr>\n",
       "      <th>6762</th>\n",
       "      <td>Deaths from all causes, all ages, standardised...</td>\n",
       "      <td>New Town and Christ Church</td>\n",
       "      <td>Ward</td>\n",
       "      <td>Persons</td>\n",
       "      <td>All ages</td>\n",
       "      <td>2013 - 17</td>\n",
       "      <td>85.430205</td>\n",
       "      <td>Cannot be calculated</td>\n",
       "      <td>Better</td>\n",
       "    </tr>\n",
       "  </tbody>\n",
       "</table>\n",
       "</div>"
      ],
      "text/plain": [
       "                                         Indicator Name  \\\n",
       "137   Deaths from all causes, all ages, standardised...   \n",
       "174   Deaths from all causes, all ages, standardised...   \n",
       "143   Deaths from all causes, all ages, standardised...   \n",
       "6762  Deaths from all causes, all ages, standardised...   \n",
       "\n",
       "                       Area Name                 Area Type      Sex       Age  \\\n",
       "137     NHS North East Essex CCG            CCGs (2018/19)  Persons  All ages   \n",
       "174                        Essex    County & UA (pre 4/19)  Persons  All ages   \n",
       "143                   Colchester  District & UA (pre 4/19)  Persons  All ages   \n",
       "6762  New Town and Christ Church                      Ward  Persons  All ages   \n",
       "\n",
       "     Time period       Value          Recent Trend  \\\n",
       "137    2013 - 17  103.529305  Cannot be calculated   \n",
       "174    2013 - 17   97.599014  Cannot be calculated   \n",
       "143    2013 - 17   99.966333  Cannot be calculated   \n",
       "6762   2013 - 17   85.430205  Cannot be calculated   \n",
       "\n",
       "     Compared to England value or percentiles  \n",
       "137                                     Worse  \n",
       "174                                    Better  \n",
       "143                                   Similar  \n",
       "6762                                   Better  "
      ]
     },
     "execution_count": 10,
     "metadata": {},
     "output_type": "execute_result"
    }
   ],
   "source": [
    "# Define indicator id\n",
    "indic_id = 93250\n",
    "\n",
    "# Fetch all geographic levels for this one indicator\n",
    "ind_df = ftp.get_data_for_indicator_at_all_available_geographies(indic_id)\n",
    "# There are many rows in the data\n",
    "print(\"There are \"+str(len(ind_df.index))+\" rows, mostly different areas but there can be gender/age/date splits too.\")\n",
    "\n",
    "# We can reduce down this table to just geographic areas we got in the first API call and saved in the list \"pc_list\"\n",
    "ind_df_fil = ind_df[ind_df['Area Code'].isin(pc_list)]\n",
    "# Let's just keep the fields of interest\n",
    "ind_df_fil[['Indicator Name', 'Area Name', 'Area Type', 'Sex', 'Age', \n",
    "            'Time period', 'Value','Recent Trend', 'Compared to England value or percentiles']]"
   ]
  }
 ],
 "metadata": {
  "kernelspec": {
   "display_name": "Python 3",
   "language": "python",
   "name": "python3"
  },
  "language_info": {
   "codemirror_mode": {
    "name": "ipython",
    "version": 3
   },
   "file_extension": ".py",
   "mimetype": "text/x-python",
   "name": "python",
   "nbconvert_exporter": "python",
   "pygments_lexer": "ipython3",
   "version": "3.7.3"
  }
 },
 "nbformat": 4,
 "nbformat_minor": 2
}
